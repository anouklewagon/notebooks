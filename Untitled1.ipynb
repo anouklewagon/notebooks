{
 "cells": [
  {
   "cell_type": "code",
   "execution_count": 9,
   "metadata": {},
   "outputs": [
    {
     "name": "stdout",
     "output_type": "stream",
     "text": [
      "10\n",
      "5\n",
      "0\n",
      "-5\n"
     ]
    }
   ],
   "source": [
    "for element in range (10, -10, -5):\n",
    "    print(element)"
   ]
  },
  {
   "cell_type": "code",
   "execution_count": 17,
   "metadata": {},
   "outputs": [
    {
     "name": "stdout",
     "output_type": "stream",
     "text": [
      "je ne répond plus de rien\n"
     ]
    }
   ],
   "source": [
    "def signe(x,y):\n",
    "    if x > 0 & y>1:\n",
    "        print(x,y,'positif')\n",
    "    elif x==0 & y==1:\n",
    "        print(x,y,\"nul\")\n",
    "    else:\n",
    "        print('je ne répond plus de rien')\n",
    "\n",
    "signe(1,2)"
   ]
  },
  {
   "cell_type": "code",
   "execution_count": 21,
   "metadata": {},
   "outputs": [
    {
     "ename": "TypeError",
     "evalue": "signe() takes 1 positional argument but 2 were given",
     "output_type": "error",
     "traceback": [
      "\u001b[0;31m---------------------------------------------------------------------------\u001b[0m",
      "\u001b[0;31mTypeError\u001b[0m                                 Traceback (most recent call last)",
      "\u001b[0;32m<ipython-input-21-73c23ac37163>\u001b[0m in \u001b[0;36m<module>\u001b[0;34m\u001b[0m\n\u001b[1;32m      7\u001b[0m         \u001b[0mprint\u001b[0m\u001b[0;34m(\u001b[0m\u001b[0;34m'je ne répond plus de rien'\u001b[0m\u001b[0;34m)\u001b[0m\u001b[0;34m\u001b[0m\u001b[0;34m\u001b[0m\u001b[0m\n\u001b[1;32m      8\u001b[0m \u001b[0;34m\u001b[0m\u001b[0m\n\u001b[0;32m----> 9\u001b[0;31m \u001b[0msigne\u001b[0m\u001b[0;34m(\u001b[0m\u001b[0;36m0\u001b[0m\u001b[0;34m,\u001b[0m\u001b[0;36m1\u001b[0m\u001b[0;34m)\u001b[0m\u001b[0;34m\u001b[0m\u001b[0;34m\u001b[0m\u001b[0m\n\u001b[0m",
      "\u001b[0;31mTypeError\u001b[0m: signe() takes 1 positional argument but 2 were given"
     ]
    }
   ],
   "source": [
    "def signe(x):\n",
    "    if x>0:\n",
    "        print(x,'positif')\n",
    "    elif x==0:\n",
    "        print(x,\"nul\")\n",
    "    else:\n",
    "        print('je ne répond plus de rien')\n",
    "\n",
    "signe(0,1)"
   ]
  },
  {
   "cell_type": "code",
   "execution_count": 34,
   "metadata": {},
   "outputs": [
    {
     "name": "stdout",
     "output_type": "stream",
     "text": [
      "0 1 nul\n"
     ]
    }
   ],
   "source": [
    "def signe(x,y):\n",
    "    if (x>0) & (y>1):\n",
    "        print(x,y,'positif')\n",
    "    elif (x==0) & (y==1):\n",
    "        print(x,y,\"nul\")\n",
    "    else:\n",
    "        print('je ne répond plus de rien')\n",
    "\n",
    "signe(0,1)"
   ]
  },
  {
   "cell_type": "code",
   "execution_count": 33,
   "metadata": {},
   "outputs": [
    {
     "name": "stdout",
     "output_type": "stream",
     "text": [
      "1 positif\n"
     ]
    }
   ],
   "source": [
    "def signe(x):\n",
    "    if x>0:\n",
    "        print(x,'positif')\n",
    "    elif x==0:\n",
    "        print(x,\"nul\")\n",
    "    else:\n",
    "        print('je ne répond plus de rien')\n",
    "signe(1)"
   ]
  },
  {
   "cell_type": "code",
   "execution_count": 36,
   "metadata": {},
   "outputs": [
    {
     "ename": "SyntaxError",
     "evalue": "invalid syntax (<ipython-input-36-302fe58fc625>, line 1)",
     "output_type": "error",
     "traceback": [
      "\u001b[0;36m  File \u001b[0;32m\"<ipython-input-36-302fe58fc625>\"\u001b[0;36m, line \u001b[0;32m1\u001b[0m\n\u001b[0;31m    for element in range (10,-10,-2)\u001b[0m\n\u001b[0m                                    ^\u001b[0m\n\u001b[0;31mSyntaxError\u001b[0m\u001b[0;31m:\u001b[0m invalid syntax\n"
     ]
    }
   ],
   "source": [
    "for element in range (10,-10,-2)\n",
    "    signe(element)"
   ]
  },
  {
   "cell_type": "code",
   "execution_count": 62,
   "metadata": {},
   "outputs": [],
   "source": [
    "def fibonacci(n):\n",
    "    print (n)\n",
    "    n += 1\n",
    "    n = (n+2*n)\n",
    "    "
   ]
  },
  {
   "cell_type": "code",
   "execution_count": 58,
   "metadata": {
    "scrolled": true
   },
   "outputs": [
    {
     "name": "stdout",
     "output_type": "stream",
     "text": [
      "1\n"
     ]
    }
   ],
   "source": [
    "while n<n:\n",
    "print fibonacci(0)"
   ]
  },
  {
   "cell_type": "code",
   "execution_count": null,
   "metadata": {},
   "outputs": [],
   "source": [
    "n = 1\n",
    "while n<10:\n",
    "    print (fibonacci (1))"
   ]
  },
  {
   "cell_type": "code",
   "execution_count": null,
   "metadata": {},
   "outputs": [],
   "source": []
  }
 ],
 "metadata": {
  "kernelspec": {
   "display_name": "Python 3",
   "language": "python",
   "name": "python3"
  },
  "language_info": {
   "codemirror_mode": {
    "name": "ipython",
    "version": 3
   },
   "file_extension": ".py",
   "mimetype": "text/x-python",
   "name": "python",
   "nbconvert_exporter": "python",
   "pygments_lexer": "ipython3",
   "version": "3.7.6"
  }
 },
 "nbformat": 4,
 "nbformat_minor": 4
}
