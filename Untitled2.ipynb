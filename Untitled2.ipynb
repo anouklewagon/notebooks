{
 "cells": [
  {
   "cell_type": "code",
   "execution_count": 8,
   "metadata": {},
   "outputs": [
    {
     "name": "stdout",
     "output_type": "stream",
     "text": [
      "1 positif\n"
     ]
    }
   ],
   "source": [
    "def signe(x):\n",
    "    if x>0:\n",
    "        print(x,'positif')\n",
    "    elif x==0:\n",
    "        print(x,\"nul\")\n",
    "    else:\n",
    "        print(x,'je ne répond plus de rien')\n",
    "signe(1)"
   ]
  },
  {
   "cell_type": "code",
   "execution_count": 6,
   "metadata": {},
   "outputs": [
    {
     "name": "stdout",
     "output_type": "stream",
     "text": [
      "10 positif\n",
      "8 positif\n",
      "6 positif\n",
      "4 positif\n",
      "2 positif\n",
      "0 nul\n",
      "je ne répond plus de rien\n",
      "je ne répond plus de rien\n",
      "je ne répond plus de rien\n",
      "je ne répond plus de rien\n"
     ]
    }
   ],
   "source": [
    "for element in range (10,-10,-2):\n",
    "    signe(element)"
   ]
  },
  {
   "cell_type": "code",
   "execution_count": 9,
   "metadata": {},
   "outputs": [
    {
     "name": "stdout",
     "output_type": "stream",
     "text": [
      "10 positif\n",
      "8 positif\n",
      "6 positif\n",
      "4 positif\n",
      "2 positif\n",
      "0 nul\n",
      "-2 je ne répond plus de rien\n",
      "-4 je ne répond plus de rien\n",
      "-6 je ne répond plus de rien\n",
      "-8 je ne répond plus de rien\n"
     ]
    }
   ],
   "source": [
    "for element in range (10,-10,-2):\n",
    "    signe(element)"
   ]
  },
  {
   "cell_type": "code",
   "execution_count": null,
   "metadata": {},
   "outputs": [],
   "source": []
  }
 ],
 "metadata": {
  "kernelspec": {
   "display_name": "Python 3",
   "language": "python",
   "name": "python3"
  },
  "language_info": {
   "codemirror_mode": {
    "name": "ipython",
    "version": 3
   },
   "file_extension": ".py",
   "mimetype": "text/x-python",
   "name": "python",
   "nbconvert_exporter": "python",
   "pygments_lexer": "ipython3",
   "version": "3.7.6"
  }
 },
 "nbformat": 4,
 "nbformat_minor": 4
}
